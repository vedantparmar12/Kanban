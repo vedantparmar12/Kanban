{
 "cells": [
  {
   "cell_type": "code",
   "metadata": {
    "metadata": {},
    "ExecuteTime": {
     "end_time": "2024-06-03T14:56:00.995060Z",
     "start_time": "2024-06-03T14:55:59.620946Z"
    }
   },
   "source": [
    "from langchain_community.document_loaders import PyPDFLoader\n",
    "from langchain_text_splitters import RecursiveCharacterTextSplitter\n",
    "\n",
    "loader = PyPDFLoader(\"IT Support .pdf\")\n",
    "pages = loader.load_and_split()"
   ],
   "outputs": [],
   "execution_count": 2
  },
  {
   "metadata": {
    "ExecuteTime": {
     "end_time": "2024-06-03T15:00:54.040505Z",
     "start_time": "2024-06-03T14:56:15.465039Z"
    }
   },
   "cell_type": "code",
   "source": "!pip install pypdf langchain_community langchain-text-splitters langchain sentence_transformers langchain-chroma -q",
   "outputs": [
    {
     "name": "stderr",
     "output_type": "stream",
     "text": [
      "ERROR: Could not install packages due to an OSError: [WinError 5] Access is denied: 'C:\\\\Users\\\\vedan\\\\.venv\\\\Library\\\\bin\\\\mkl_core.1.dll'\n",
      "Check the permissions.\n",
      "\n",
      "\n",
      "[notice] A new release of pip is available: 23.2.1 -> 24.0\n",
      "[notice] To update, run: python.exe -m pip install --upgrade pip\n"
     ]
    }
   ],
   "execution_count": 3
  },
  {
   "cell_type": "code",
   "metadata": {
    "metadata": {},
    "ExecuteTime": {
     "end_time": "2024-06-03T15:00:54.089630Z",
     "start_time": "2024-06-03T15:00:54.051886Z"
    }
   },
   "source": [
    "pages"
   ],
   "outputs": [
    {
     "data": {
      "text/plain": [
       "[Document(page_content=\"Question:\\nWhy\\nis\\nmy\\nlaptop\\nrunning\\nslow?\\nShort\\nSolution:\\nThere\\nare\\nseveral\\nreasons\\nfor\\na\\nslow\\nlaptop.\\nCheck\\nif\\nmany\\nprograms\\nare\\nrunning\\nat\\nonce,\\nfree\\nup\\ndisk\\nspace\\nby\\ndeleting\\nunnecessary\\nfiles,\\nconsider\\nupgrading\\nRAM,\\nor\\nrun\\na\\nscan\\nfor\\nmalware.\\nQuestion:\\nHow\\ndo\\nI\\nconnect\\nan\\nexternal\\nhard\\ndrive\\nto\\nmy\\ncomputer?\\nShort\\nSolution:\\nMost\\nexternal\\nhard\\ndrives\\nconnect\\nvia\\nUSB.\\nLocate\\na\\nfree\\nUSB\\nport\\non\\nyour\\ncomputer,\\nplug\\nin\\nthe\\ndrive,\\nand\\nit\\nshould\\nbe\\nautomatically\\ndetected\\nby\\nyour\\noperating\\nsystem.\\nQuestion:\\nWhat\\nare\\nthe\\nsystem\\nrequirements\\nfor\\nrunning\\na\\nspecific\\nsoftware?\\nShort\\nSolution:\\nSystem\\nrequirements\\ncan\\nusually\\nbe\\nfound\\non\\nthe\\nsoftware\\ndeveloper's\\nwebsite\\nor\\nthe\\nsoftware\\npackaging\\nitself.\\nThey\\nspecify\\nthe\\nminimum\\nRAM,\\nstorage\\nspace,\\nprocessor\\ntype,\\nand\\noperating\\nsystem\\nneeded\\nto\\nrun\\nthe\\nsoftware\\nsmoothly.\\nSoftware-related\\nQuestions:\\nQuestion:\\nHow\\ndo\\nI\\ninstall\\na\\nnew\\nsoftware\\napplication?\\nShort\\nSolution:\\nDownloaded\\nsoftware\\noften\\ncomes\\nas\\nan\\ninstaller\\nfile\\n(e.g.,\\n.exe).\\nDouble-click\\nthe\\nfile\\nand\\nfollow\\nthe\\non-screen\\ninstructions.\\nFor\\nonline\\napplications,\\nvisit\\nthe\\nprovider's\\nwebsite\\nand\\nfollow\\ntheir\\nsignup/download\\nprocess.\\nQuestion:\\nCan\\nyou\\nguide\\nme\\nthrough\\nthe\\nprocess\\nof\\nuninstalling\\na\\nprogram?\\nShort\\nSolution:\\nThe\\nuninstall\\nprocess\\nvaries\\nslightly\\ndepending\\non\\nthe\\noperating\\nsystem.\\nGenerally,\\nyou\\ncan\\nuninstall\\nprograms\\nthrough\\nthe\\ncontrol\\npanel\\nor\\nsettings\\nmenu\\non\\nyour\\ncomputer.\\nNetwork\\nand\\nInternet-related\\nQuestions:\\nQuestion:\\nHow\\ndo\\nI\\nconnect\\nto\\na\\nWi-Fi\\nnetwork?\\nShort\\nSolution:\\nLocate\\nthe\\nWi-Fi\\nicon\\non\\nyour\\ndevice\\n(computer,\\nphone,\\netc.).\\nSearch\\nfor\\navailable\\nnetworks,\\nselect\\nyour\\ndesired\\nnetwork,\\nand\\nenter\\nthe\\npassword\\n(if\\nrequired).\\nQuestion:\\nWhy\\nis\\nmy\\ninternet\\nconnection\\nslow?\\nShort\\nSolution:\\nSlow\\ninternet\\ncan\\nbe\\ncaused\\nby\\nvarious\\nfactors\\nlike\\noverloaded\\nWi-Fi\\nnetworks,\\nlimited\\ninternet\\nplan\\nbandwidth,\\nor\\nissues\\nwith\\nyour\\ninternet\\nservice\\nprovider.\\nGeneral\\nIT\\nSupport\\nQuestions:\\nQuestion:\\nHow\\ndo\\nI\\nbackup\\nand\\nrestore\\nmy\\ndata?\", metadata={'source': 'IT Support .pdf', 'page': 0}),\n",
       " Document(page_content=\"Short\\nSolution:\\nBacking\\nup\\ndata\\ninvolves\\ncopying\\nit\\nto\\nanother\\nstorage\\nlocation\\n(external\\nhard\\ndrive,\\ncloud\\nstorage).\\nMany\\nbackup\\noptions\\nexist\\ndepending\\non\\nyour\\nneeds.\\nRestoring\\ndata\\ninvolves\\nretrieving\\nit\\nfrom\\nyour\\nbackup\\nstorage.\\nQuestion:\\nCan\\nyou\\nrecommend\\na\\ngood\\nantivirus\\nsoftware?\\nShort\\nSolution:\\nSeveral\\nreputable\\nantivirus\\nprograms\\nare\\navailable.\\nPopular\\noptions\\ninclude\\nBitdefender,\\nNorton,\\nand\\nKaspersky.\\nResearch\\nand\\nchoose\\none\\nthat\\nsuits\\nyour\\nneeds\\nand\\nbudget.\\nQuestion:\\nWhy\\nis\\nmy\\nlaptop\\nrunning\\nslow?\\nShort\\nSolution:\\nThere\\nare\\nseveral\\nreasons\\nfor\\na\\nslow\\nlaptop.\\nCheck\\nif\\nmany\\nprograms\\nare\\nrunning\\nat\\nonce,\\nfree\\nup\\ndisk\\nspace\\nby\\ndeleting\\nunnecessary\\nfiles,\\nconsider\\nupgrading\\nRAM,\\nor\\nrun\\na\\nscan\\nfor\\nmalware.\\nQuestion:\\nHow\\ndo\\nI\\nconnect\\nan\\nexternal\\nhard\\ndrive\\nto\\nmy\\ncomputer?\\nShort\\nSolution:\\nMost\\nexternal\\nhard\\ndrives\\nconnect\\nvia\\nUSB.\\nLocate\\na\\nfree\\nUSB\\nport\\non\\nyour\\ncomputer,\\nplug\\nin\\nthe\\ndrive,\\nand\\nit\\nshould\\nbe\\nautomatically\\ndetected\\nby\\nyour\\noperating\\nsystem.\\nQuestion:\\nWhat\\nare\\nthe\\nsystem\\nrequirements\\nfor\\nrunning\\na\\nspecific\\nsoftware?\\nShort\\nSolution:\\nSystem\\nrequirements\\ncan\\nusually\\nbe\\nfound\\non\\nthe\\nsoftware\\ndeveloper's\\nwebsite\\nor\\nthe\\nsoftware\\npackaging\\nitself.\\nThey\\nspecify\\nthe\\nminimum\\nRAM,\\nstorage\\nspace,\\nprocessor\\ntype,\\nand\\noperating\\nsystem\\nneeded\\nto\\nrun\\nthe\\nsoftware\\nsmoothly.\\nSoftware-related\\nQuestions:\\nQuestion:\\nHow\\ndo\\nI\\ninstall\\na\\nnew\\nsoftware\\napplication?\\nShort\\nSolution:\\nDownloaded\\nsoftware\\noften\\ncomes\\nas\\nan\\ninstaller\\nfile\\n(e.g.,\\n.exe).\\nDouble-click\\nthe\\nfile\\nand\\nfollow\\nthe\\non-screen\\ninstructions.\\nFor\\nonline\\napplications,\\nvisit\\nthe\\nprovider's\\nwebsite\\nand\\nfollow\\ntheir\\nsignup/download\\nprocess.\\nQuestion:\\nCan\\nyou\\nguide\\nme\\nthrough\\nthe\\nprocess\\nof\\nuninstalling\\na\\nprogram?\\nShort\\nSolution:\\nThe\\nuninstall\\nprocess\\nvaries\\nslightly\\ndepending\\non\\nthe\\noperating\\nsystem.\\nGenerally,\\nyou\\ncan\\nuninstall\\nprograms\\nthrough\\nthe\\ncontrol\\npanel\\nor\\nsettings\\nmenu\\non\\nyour\\ncomputer.\\nNetwork\\nand\\nInternet-related\\nQuestions:\\nQuestion:\\nHow\\ndo\\nI\\nconnect\\nto\\na\\nWi-Fi\\nnetwork?\\nShort\\nSolution:\\nLocate\\nthe\\nWi-Fi\\nicon\\non\\nyour\\ndevice\\n(computer,\\nphone,\\netc.).\\nSearch\\nfor\\navailable\\nnetworks,\\nselect\\nyour\\ndesired\\nnetwork,\\nand\\nenter\\nthe\\npassword\\n(if\\nrequired).\", metadata={'source': 'IT Support .pdf', 'page': 1}),\n",
       " Document(page_content='Question:\\nWhy\\nis\\nmy\\ninternet\\nconnection\\nslow?\\nShort\\nSolution:\\nSlow\\ninternet\\ncan\\nbe\\ncaused\\nby\\nvarious\\nfactors\\nlike\\noverloaded\\nWi-Fi\\nnetworks,\\nlimited\\ninternet\\nplan\\nbandwidth,\\nor\\nissues\\nwith\\nyour\\ninternet\\nservice\\nprovider.\\nGeneral\\nIT\\nSupport\\nQuestions:\\nQuestion:\\nHow\\ndo\\nI\\nbackup\\nand\\nrestore\\nmy\\ndata?\\nShort\\nSolution:\\nBacking\\nup\\ndata\\ninvolves\\ncopying\\nit\\nto\\nanother\\nstorage\\nlocation\\n(external\\nhard\\ndrive,\\ncloud\\nstorage).\\nMany\\nbackup\\noptions\\nexist\\ndepending\\non\\nyour\\nneeds.\\nRestoring\\ndata\\ninvolves\\nretrieving\\nit\\nfrom\\nyour\\nbackup\\nstorage.\\nQuestion:\\nCan\\nyou\\nrecommend\\na\\ngood\\nantivirus\\nsoftware?\\nShort\\nSolution:\\nSeveral\\nreputable\\nantivirus\\nprograms\\nare\\navailable.\\nPopular\\noptions\\ninclude\\nBitdefender,\\nNorton,\\nand\\nKaspersky.\\nResearch\\nand\\nchoose\\none\\nthat\\nsuits\\nyour\\nneeds\\nand\\nbudget.', metadata={'source': 'IT Support .pdf', 'page': 2})]"
      ]
     },
     "execution_count": 4,
     "metadata": {},
     "output_type": "execute_result"
    }
   ],
   "execution_count": 4
  },
  {
   "cell_type": "code",
   "metadata": {
    "metadata": {}
   },
   "source": [
    "data = loader.load()\n",
    "text_splitter = RecursiveCharacterTextSplitter(chunk_size=1000, chunk_overlap=200)\n",
    "texts = text_splitter.split_documents(data)"
   ],
   "outputs": [],
   "execution_count": null
  },
  {
   "cell_type": "code",
   "metadata": {
    "metadata": {}
   },
   "source": [
    "from langchain_community.vectorstores import FAISS"
   ],
   "outputs": [],
   "execution_count": null
  },
  {
   "cell_type": "code",
   "metadata": {
    "metadata": {}
   },
   "source": [
    "from langchain_community.embeddings import HuggingFaceEmbeddings\n",
    "embeddings = HuggingFaceEmbeddings()"
   ],
   "outputs": [],
   "execution_count": null
  },
  {
   "cell_type": "code",
   "metadata": {
    "metadata": {}
   },
   "source": [
    "!pip install faiss-cpu"
   ],
   "outputs": [],
   "execution_count": null
  },
  {
   "cell_type": "code",
   "metadata": {
    "metadata": {}
   },
   "source": [
    "db = FAISS.from_documents(texts, embeddings)"
   ],
   "outputs": [],
   "execution_count": null
  },
  {
   "cell_type": "code",
   "metadata": {
    "metadata": {}
   },
   "source": [
    "print(db.index.ntotal)"
   ],
   "outputs": [],
   "execution_count": null
  },
  {
   "cell_type": "code",
   "metadata": {
    "metadata": {}
   },
   "source": [
    "query = \"How to rest password\"\n",
    "docs = db.similarity_search(query)"
   ],
   "outputs": [],
   "execution_count": null
  },
  {
   "cell_type": "code",
   "metadata": {
    "metadata": {}
   },
   "source": [
    "docs"
   ],
   "outputs": [],
   "execution_count": null
  },
  {
   "cell_type": "code",
   "metadata": {
    "metadata": {}
   },
   "source": [
    "retriever = db.as_retriever()\n",
    "docs = retriever.invoke(query)"
   ],
   "outputs": [],
   "execution_count": null
  },
  {
   "cell_type": "code",
   "metadata": {
    "metadata": {}
   },
   "source": [
    "docs_and_scores = db.similarity_search_with_score(query)\n",
    "docs_and_scores "
   ],
   "outputs": [],
   "execution_count": null
  },
  {
   "cell_type": "code",
   "metadata": {
    "metadata": {}
   },
   "source": [
    "db.save_local(\"faiss_index\")\n",
    "\n",
    "new_db = FAISS.load_local(\"faiss_index\", embeddings, allow_dangerous_deserialization=True)"
   ],
   "outputs": [],
   "execution_count": null
  },
  {
   "cell_type": "code",
   "metadata": {
    "metadata": {}
   },
   "source": [
    "docs = retriever.invoke(\"what is cavity\")"
   ],
   "outputs": [],
   "execution_count": null
  },
  {
   "cell_type": "code",
   "metadata": {
    "metadata": {}
   },
   "source": [
    "docs "
   ],
   "outputs": [],
   "execution_count": null
  },
  {
   "metadata": {},
   "cell_type": "code",
   "outputs": [],
   "execution_count": null,
   "source": ""
  }
 ],
 "metadata": {
  "kernelspec": {
   "display_name": "Python 3",
   "language": "python",
   "name": "python3"
  },
  "language_info": {
   "codemirror_mode": {
    "name": "ipython",
    "version": 3
   },
   "file_extension": ".py",
   "mimetype": "text/x-python",
   "name": "python",
   "nbconvert_exporter": "python",
   "pygments_lexer": "ipython3",
   "version": "3.10.13"
  }
 },
 "nbformat": 4,
 "nbformat_minor": 2
}
